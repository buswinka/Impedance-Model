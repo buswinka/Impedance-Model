{
 "cells": [
  {
   "cell_type": "code",
   "execution_count": 95,
   "metadata": {},
   "outputs": [
    {
     "data": {
      "application/vnd.jupyter.widget-view+json": {
       "model_id": "bdfa61d0b21c43b6836d85e25dd9884c",
       "version_major": 2,
       "version_minor": 0
      },
      "text/plain": [
       "interactive(children=(FloatSlider(value=4000.0, continuous_update=False, description='Rs (Ohms):', max=10000.0…"
      ]
     },
     "metadata": {},
     "output_type": "display_data"
    },
    {
     "data": {
      "text/plain": [
       "<function __main__.Z(rs, rct, c, q, n)>"
      ]
     },
     "execution_count": 95,
     "metadata": {},
     "output_type": "execute_result"
    }
   ],
   "source": [
    "import numpy as np\n",
    "import matplotlib.pyplot as plt\n",
    "from matplotlib.widgets import Slider, Button, RadioButtons\n",
    "from ipywidgets import interact, interactive, fixed, interact_manual\n",
    "import ipywidgets as widgets\n",
    "\n",
    "w_rs = widgets.FloatSlider(\n",
    "    value=4000,\n",
    "    min=1000,\n",
    "    max=10000,\n",
    "    step=100,\n",
    "    description='Rs (Ohms):',\n",
    "    disabled=False,\n",
    "    continuous_update=False,\n",
    "    orientation='horizontal',\n",
    "    readout=True,\n",
    "    readout_format='d'\n",
    ")\n",
    "\n",
    "w_rct = widgets.FloatSlider(\n",
    "    value=10000,\n",
    "    min=1000,\n",
    "    max=100000,\n",
    "    step=10000,\n",
    "    description='Rct (Ohms):',\n",
    "    disabled=False,\n",
    "    continuous_update=False,\n",
    "    orientation='horizontal',\n",
    "    readout=True,\n",
    "    readout_format='d'\n",
    ")\n",
    "\n",
    "w_Q = widgets.FloatLogSlider(\n",
    "    value=1e-8,\n",
    "    base=10,\n",
    "    min=-9, # max exponent of base\n",
    "    max=-6, # min exponent of base\n",
    "    step=0.2, # exponent step\n",
    "    description='Q (unitless)'\n",
    ")\n",
    "\n",
    "\n",
    "\n",
    "w_n = widgets.FloatSlider(\n",
    "    value=.8,\n",
    "    min=0.0001,\n",
    "    max=1,\n",
    "    step=0.01,\n",
    "    description='n (unitless):',\n",
    "    disabled=False,\n",
    "    continuous_update=False,\n",
    "    orientation='horizontal',\n",
    "    readout=True,\n",
    "    readout_format='f'\n",
    ")\n",
    "\n",
    "w_C = widgets.FloatLogSlider(\n",
    "    value=1e-8,\n",
    "    base=10,\n",
    "    min=-9, # max exponent of base\n",
    "    max=-7, # min exponent of base\n",
    "    step=0.2, # exponent step\n",
    "    description='C (Farad)'\n",
    ")\n",
    "\n",
    "\n",
    "def Z(rs,rct,c,q,n):\n",
    "    f= np.logspace(2,6)\n",
    "    w = 2*np.pi*f\n",
    "    z = rs + (1j*c*w)**-1 + (q*(1j*w)**n + 1/rct)**-1 \n",
    "    zabs = np.abs(z)\n",
    "    plt.figure(figsize=(10,10))\n",
    "    plt.semilogx(f,zabs)\n",
    "\n",
    "    plt.xlim(100,100000)\n",
    "    plt.xlabel('frequency (Hz)')\n",
    "    plt.ylabel(r'|Z| ($\\Omega$)')\n",
    "    plt.title('Impedance Model')\n",
    "\n",
    "\n",
    "interact(Z,rs = w_rs, rct = w_rct, c = w_C, q = w_Q, n = w_n)"
   ]
  },
  {
   "cell_type": "code",
   "execution_count": null,
   "metadata": {},
   "outputs": [],
   "source": []
  }
 ],
 "metadata": {
  "kernelspec": {
   "display_name": "Python 3",
   "language": "python",
   "name": "python3"
  },
  "language_info": {
   "codemirror_mode": {
    "name": "ipython",
    "version": 3
   },
   "file_extension": ".py",
   "mimetype": "text/x-python",
   "name": "python",
   "nbconvert_exporter": "python",
   "pygments_lexer": "ipython3",
   "version": "3.6.5"
  }
 },
 "nbformat": 4,
 "nbformat_minor": 2
}
